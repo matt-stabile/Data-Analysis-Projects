{
 "cells": [
  {
   "cell_type": "code",
   "execution_count": 2,
   "id": "21224381",
   "metadata": {},
   "outputs": [],
   "source": [
    "#Importing the neccesary python packages/ libraries for analysis\n",
    "import pandas as pd\n",
    "import matplotlib.pyplot as plt\n",
    "import numpy as np\n",
    "import seaborn as sns\n",
    "from scipy import stats\n",
    "from sklearn.preprocessing import StandardScaler\n",
    "from sklearn.linear_model import LinearRegression\n",
    "from sklearn.model_selection import train_test_split"
   ]
  },
  {
   "cell_type": "code",
   "execution_count": 3,
   "id": "7e6b2478",
   "metadata": {},
   "outputs": [
    {
     "name": "stderr",
     "output_type": "stream",
     "text": [
      "/var/folders/fs/_rf26k9d23335sg32kv868dc0000gn/T/ipykernel_11750/2654915783.py:2: DtypeWarning: Columns (0) have mixed types. Specify dtype option on import or set low_memory=False.\n",
      "  airport_data = pd.read_csv('/Users/matthewstabile/airports.csv')\n"
     ]
    }
   ],
   "source": [
    "Loading the datasets into python as a DataFrame\n",
    "airport_data = pd.read_csv('/Users/matthewstabile/airports.csv')\n",
    "medical_data = pd.read_csv('/Users/matthewstabile/medicalCosts.csv')"
   ]
  },
  {
   "cell_type": "code",
   "execution_count": 4,
   "id": "4c466ee4",
   "metadata": {},
   "outputs": [
    {
     "data": {
      "text/html": [
       "<div>\n",
       "<style scoped>\n",
       "    .dataframe tbody tr th:only-of-type {\n",
       "        vertical-align: middle;\n",
       "    }\n",
       "\n",
       "    .dataframe tbody tr th {\n",
       "        vertical-align: top;\n",
       "    }\n",
       "\n",
       "    .dataframe thead th {\n",
       "        text-align: right;\n",
       "    }\n",
       "</style>\n",
       "<table border=\"1\" class=\"dataframe\">\n",
       "  <thead>\n",
       "    <tr style=\"text-align: right;\">\n",
       "      <th></th>\n",
       "      <th>Claim Number</th>\n",
       "      <th>Date Received</th>\n",
       "      <th>Incident Date</th>\n",
       "      <th>Airport Code</th>\n",
       "      <th>Airport Name</th>\n",
       "      <th>Airline Name</th>\n",
       "      <th>Claim Type</th>\n",
       "      <th>Claim Site</th>\n",
       "      <th>Item</th>\n",
       "      <th>Claim Amount</th>\n",
       "      <th>Status</th>\n",
       "      <th>Close Amount</th>\n",
       "      <th>Disposition</th>\n",
       "    </tr>\n",
       "  </thead>\n",
       "  <tbody>\n",
       "    <tr>\n",
       "      <th>0</th>\n",
       "      <td>0909802M</td>\n",
       "      <td>4-Jan-02</td>\n",
       "      <td>12/12/2002 0:00</td>\n",
       "      <td>EWR</td>\n",
       "      <td>Newark International Airport</td>\n",
       "      <td>Continental Airlines</td>\n",
       "      <td>Property Damage</td>\n",
       "      <td>Checkpoint</td>\n",
       "      <td>Other</td>\n",
       "      <td>350.00</td>\n",
       "      <td>Approved</td>\n",
       "      <td>350.00</td>\n",
       "      <td>Approve in Full</td>\n",
       "    </tr>\n",
       "    <tr>\n",
       "      <th>1</th>\n",
       "      <td>0202445M</td>\n",
       "      <td>4-Feb-02</td>\n",
       "      <td>11/26/2003 0:00</td>\n",
       "      <td>STL</td>\n",
       "      <td>Lambert St. Louis International</td>\n",
       "      <td>American Airlines</td>\n",
       "      <td>Property Damage</td>\n",
       "      <td>Checked Baggage</td>\n",
       "      <td>Cell Phones</td>\n",
       "      <td>278.88</td>\n",
       "      <td>Settled</td>\n",
       "      <td>227.92</td>\n",
       "      <td>Settle</td>\n",
       "    </tr>\n",
       "    <tr>\n",
       "      <th>2</th>\n",
       "      <td>0909816M</td>\n",
       "      <td>7-Feb-02</td>\n",
       "      <td>1/6/2003 0:00</td>\n",
       "      <td>MIA</td>\n",
       "      <td>Miami International Airport</td>\n",
       "      <td>American Airlines</td>\n",
       "      <td>Property Damage</td>\n",
       "      <td>Checkpoint</td>\n",
       "      <td>Luggage (all types including footlockers)</td>\n",
       "      <td>50.00</td>\n",
       "      <td>Approved</td>\n",
       "      <td>50.00</td>\n",
       "      <td>Approve in Full</td>\n",
       "    </tr>\n",
       "    <tr>\n",
       "      <th>3</th>\n",
       "      <td>2.00503E+12</td>\n",
       "      <td>18-Feb-02</td>\n",
       "      <td>2/5/2005 0:00</td>\n",
       "      <td>MCO</td>\n",
       "      <td>Orlando International Airport</td>\n",
       "      <td>Delta (Song)</td>\n",
       "      <td>Property Damage</td>\n",
       "      <td>Checkpoint</td>\n",
       "      <td>Baby - Strollers; car seats; playpen; etc.</td>\n",
       "      <td>84.79</td>\n",
       "      <td>Approved</td>\n",
       "      <td>84.79</td>\n",
       "      <td>Approve in Full</td>\n",
       "    </tr>\n",
       "    <tr>\n",
       "      <th>4</th>\n",
       "      <td>2.00503E+12</td>\n",
       "      <td>18-Feb-02</td>\n",
       "      <td>2/17/2005 0:00</td>\n",
       "      <td>CAK</td>\n",
       "      <td>Akron-Canton Regional</td>\n",
       "      <td>Air Tran Airlines(do not use)</td>\n",
       "      <td>Passenger Property Loss</td>\n",
       "      <td>Checked Baggage</td>\n",
       "      <td>Other</td>\n",
       "      <td>459.01</td>\n",
       "      <td>Settled</td>\n",
       "      <td>227.00</td>\n",
       "      <td>Settle</td>\n",
       "    </tr>\n",
       "  </tbody>\n",
       "</table>\n",
       "</div>"
      ],
      "text/plain": [
       "  Claim Number Date Received    Incident Date Airport Code  \\\n",
       "0     0909802M      4-Jan-02  12/12/2002 0:00          EWR   \n",
       "1     0202445M      4-Feb-02  11/26/2003 0:00          STL   \n",
       "2     0909816M      7-Feb-02    1/6/2003 0:00          MIA   \n",
       "3  2.00503E+12     18-Feb-02    2/5/2005 0:00          MCO   \n",
       "4  2.00503E+12     18-Feb-02   2/17/2005 0:00          CAK   \n",
       "\n",
       "                      Airport Name                   Airline Name  \\\n",
       "0     Newark International Airport           Continental Airlines   \n",
       "1  Lambert St. Louis International              American Airlines   \n",
       "2      Miami International Airport              American Airlines   \n",
       "3    Orlando International Airport                   Delta (Song)   \n",
       "4            Akron-Canton Regional  Air Tran Airlines(do not use)   \n",
       "\n",
       "                Claim Type       Claim Site  \\\n",
       "0          Property Damage       Checkpoint   \n",
       "1          Property Damage  Checked Baggage   \n",
       "2          Property Damage       Checkpoint   \n",
       "3          Property Damage       Checkpoint   \n",
       "4  Passenger Property Loss  Checked Baggage   \n",
       "\n",
       "                                         Item  Claim Amount    Status  \\\n",
       "0                                       Other        350.00  Approved   \n",
       "1                                 Cell Phones        278.88   Settled   \n",
       "2   Luggage (all types including footlockers)         50.00  Approved   \n",
       "3  Baby - Strollers; car seats; playpen; etc.         84.79  Approved   \n",
       "4                                       Other        459.01   Settled   \n",
       "\n",
       "   Close Amount      Disposition  \n",
       "0        350.00  Approve in Full  \n",
       "1        227.92           Settle  \n",
       "2         50.00  Approve in Full  \n",
       "3         84.79  Approve in Full  \n",
       "4        227.00           Settle  "
      ]
     },
     "execution_count": 4,
     "metadata": {},
     "output_type": "execute_result"
    }
   ],
   "source": [
    "#Brief look at the airport dataset\n",
    "airport_data.head()"
   ]
  },
  {
   "cell_type": "code",
   "execution_count": 5,
   "id": "fc29e0ec",
   "metadata": {},
   "outputs": [
    {
     "name": "stdout",
     "output_type": "stream",
     "text": [
      "<class 'pandas.core.frame.DataFrame'>\n",
      "RangeIndex: 94848 entries, 0 to 94847\n",
      "Data columns (total 13 columns):\n",
      " #   Column         Non-Null Count  Dtype  \n",
      "---  ------         --------------  -----  \n",
      " 0   Claim Number   94848 non-null  object \n",
      " 1   Date Received  94848 non-null  object \n",
      " 2   Incident Date  94848 non-null  object \n",
      " 3   Airport Code   94848 non-null  object \n",
      " 4   Airport Name   94848 non-null  object \n",
      " 5   Airline Name   94848 non-null  object \n",
      " 6   Claim Type     94848 non-null  object \n",
      " 7   Claim Site     94848 non-null  object \n",
      " 8   Item           94848 non-null  object \n",
      " 9   Claim Amount   94848 non-null  float64\n",
      " 10  Status         94848 non-null  object \n",
      " 11  Close Amount   94848 non-null  float64\n",
      " 12  Disposition    94848 non-null  object \n",
      "dtypes: float64(2), object(11)\n",
      "memory usage: 9.4+ MB\n"
     ]
    }
   ],
   "source": [
    "#Taking a look at the data types of the columns\n",
    "airport_data.info()"
   ]
  },
  {
   "cell_type": "code",
   "execution_count": 6,
   "id": "e383cb4d",
   "metadata": {},
   "outputs": [
    {
     "data": {
      "text/html": [
       "<div>\n",
       "<style scoped>\n",
       "    .dataframe tbody tr th:only-of-type {\n",
       "        vertical-align: middle;\n",
       "    }\n",
       "\n",
       "    .dataframe tbody tr th {\n",
       "        vertical-align: top;\n",
       "    }\n",
       "\n",
       "    .dataframe thead th {\n",
       "        text-align: right;\n",
       "    }\n",
       "</style>\n",
       "<table border=\"1\" class=\"dataframe\">\n",
       "  <thead>\n",
       "    <tr style=\"text-align: right;\">\n",
       "      <th></th>\n",
       "      <th>Claim Amount</th>\n",
       "      <th>Close Amount</th>\n",
       "    </tr>\n",
       "  </thead>\n",
       "  <tbody>\n",
       "    <tr>\n",
       "      <th>count</th>\n",
       "      <td>9.484800e+04</td>\n",
       "      <td>94848.000000</td>\n",
       "    </tr>\n",
       "    <tr>\n",
       "      <th>mean</th>\n",
       "      <td>3.634831e+03</td>\n",
       "      <td>89.046256</td>\n",
       "    </tr>\n",
       "    <tr>\n",
       "      <th>std</th>\n",
       "      <td>5.249437e+05</td>\n",
       "      <td>882.058837</td>\n",
       "    </tr>\n",
       "    <tr>\n",
       "      <th>min</th>\n",
       "      <td>0.000000e+00</td>\n",
       "      <td>0.000000</td>\n",
       "    </tr>\n",
       "    <tr>\n",
       "      <th>25%</th>\n",
       "      <td>6.500000e+01</td>\n",
       "      <td>0.000000</td>\n",
       "    </tr>\n",
       "    <tr>\n",
       "      <th>50%</th>\n",
       "      <td>1.836900e+02</td>\n",
       "      <td>0.000000</td>\n",
       "    </tr>\n",
       "    <tr>\n",
       "      <th>75%</th>\n",
       "      <td>4.806425e+02</td>\n",
       "      <td>61.972500</td>\n",
       "    </tr>\n",
       "    <tr>\n",
       "      <th>max</th>\n",
       "      <td>1.250000e+08</td>\n",
       "      <td>250000.000000</td>\n",
       "    </tr>\n",
       "  </tbody>\n",
       "</table>\n",
       "</div>"
      ],
      "text/plain": [
       "       Claim Amount   Close Amount\n",
       "count  9.484800e+04   94848.000000\n",
       "mean   3.634831e+03      89.046256\n",
       "std    5.249437e+05     882.058837\n",
       "min    0.000000e+00       0.000000\n",
       "25%    6.500000e+01       0.000000\n",
       "50%    1.836900e+02       0.000000\n",
       "75%    4.806425e+02      61.972500\n",
       "max    1.250000e+08  250000.000000"
      ]
     },
     "execution_count": 6,
     "metadata": {},
     "output_type": "execute_result"
    }
   ],
   "source": [
    "#Taking a look at the stats of the data\n",
    "airport_data.describe()"
   ]
  },
  {
   "cell_type": "code",
   "execution_count": 7,
   "id": "fd5cb3a3",
   "metadata": {},
   "outputs": [
    {
     "data": {
      "text/plain": [
       "(94848, 13)"
      ]
     },
     "execution_count": 7,
     "metadata": {},
     "output_type": "execute_result"
    }
   ],
   "source": [
    "#How many rows and columns are we working with?\n",
    "airport_data.shape"
   ]
  },
  {
   "cell_type": "code",
   "execution_count": 8,
   "id": "8cf058b6",
   "metadata": {},
   "outputs": [
    {
     "data": {
      "text/html": [
       "<div>\n",
       "<style scoped>\n",
       "    .dataframe tbody tr th:only-of-type {\n",
       "        vertical-align: middle;\n",
       "    }\n",
       "\n",
       "    .dataframe tbody tr th {\n",
       "        vertical-align: top;\n",
       "    }\n",
       "\n",
       "    .dataframe thead th {\n",
       "        text-align: right;\n",
       "    }\n",
       "</style>\n",
       "<table border=\"1\" class=\"dataframe\">\n",
       "  <thead>\n",
       "    <tr style=\"text-align: right;\">\n",
       "      <th></th>\n",
       "      <th>age</th>\n",
       "      <th>sex</th>\n",
       "      <th>bmi</th>\n",
       "      <th>children</th>\n",
       "      <th>smoker</th>\n",
       "      <th>region</th>\n",
       "      <th>charges</th>\n",
       "    </tr>\n",
       "  </thead>\n",
       "  <tbody>\n",
       "    <tr>\n",
       "      <th>0</th>\n",
       "      <td>19</td>\n",
       "      <td>female</td>\n",
       "      <td>27.900</td>\n",
       "      <td>0</td>\n",
       "      <td>yes</td>\n",
       "      <td>southwest</td>\n",
       "      <td>16884.92400</td>\n",
       "    </tr>\n",
       "    <tr>\n",
       "      <th>1</th>\n",
       "      <td>18</td>\n",
       "      <td>male</td>\n",
       "      <td>33.770</td>\n",
       "      <td>1</td>\n",
       "      <td>no</td>\n",
       "      <td>southeast</td>\n",
       "      <td>1725.55230</td>\n",
       "    </tr>\n",
       "    <tr>\n",
       "      <th>2</th>\n",
       "      <td>28</td>\n",
       "      <td>male</td>\n",
       "      <td>33.000</td>\n",
       "      <td>3</td>\n",
       "      <td>no</td>\n",
       "      <td>southeast</td>\n",
       "      <td>4449.46200</td>\n",
       "    </tr>\n",
       "    <tr>\n",
       "      <th>3</th>\n",
       "      <td>33</td>\n",
       "      <td>male</td>\n",
       "      <td>22.705</td>\n",
       "      <td>0</td>\n",
       "      <td>no</td>\n",
       "      <td>northwest</td>\n",
       "      <td>21984.47061</td>\n",
       "    </tr>\n",
       "    <tr>\n",
       "      <th>4</th>\n",
       "      <td>32</td>\n",
       "      <td>male</td>\n",
       "      <td>28.880</td>\n",
       "      <td>0</td>\n",
       "      <td>no</td>\n",
       "      <td>northwest</td>\n",
       "      <td>3866.85520</td>\n",
       "    </tr>\n",
       "  </tbody>\n",
       "</table>\n",
       "</div>"
      ],
      "text/plain": [
       "   age     sex     bmi  children smoker     region      charges\n",
       "0   19  female  27.900         0    yes  southwest  16884.92400\n",
       "1   18    male  33.770         1     no  southeast   1725.55230\n",
       "2   28    male  33.000         3     no  southeast   4449.46200\n",
       "3   33    male  22.705         0     no  northwest  21984.47061\n",
       "4   32    male  28.880         0     no  northwest   3866.85520"
      ]
     },
     "execution_count": 8,
     "metadata": {},
     "output_type": "execute_result"
    }
   ],
   "source": [
    "#Brief look at the medical dataset\n",
    "medical_data.head()"
   ]
  },
  {
   "cell_type": "code",
   "execution_count": 9,
   "id": "2b79cef6",
   "metadata": {},
   "outputs": [
    {
     "name": "stdout",
     "output_type": "stream",
     "text": [
      "<class 'pandas.core.frame.DataFrame'>\n",
      "RangeIndex: 1338 entries, 0 to 1337\n",
      "Data columns (total 7 columns):\n",
      " #   Column    Non-Null Count  Dtype  \n",
      "---  ------    --------------  -----  \n",
      " 0   age       1338 non-null   int64  \n",
      " 1   sex       1338 non-null   object \n",
      " 2   bmi       1338 non-null   float64\n",
      " 3   children  1338 non-null   int64  \n",
      " 4   smoker    1338 non-null   object \n",
      " 5   region    1338 non-null   object \n",
      " 6   charges   1338 non-null   float64\n",
      "dtypes: float64(2), int64(2), object(3)\n",
      "memory usage: 73.3+ KB\n"
     ]
    }
   ],
   "source": [
    "#medical dataset data types\n",
    "medical_data.info()"
   ]
  },
  {
   "cell_type": "code",
   "execution_count": 10,
   "id": "d7027729",
   "metadata": {},
   "outputs": [
    {
     "data": {
      "text/html": [
       "<div>\n",
       "<style scoped>\n",
       "    .dataframe tbody tr th:only-of-type {\n",
       "        vertical-align: middle;\n",
       "    }\n",
       "\n",
       "    .dataframe tbody tr th {\n",
       "        vertical-align: top;\n",
       "    }\n",
       "\n",
       "    .dataframe thead th {\n",
       "        text-align: right;\n",
       "    }\n",
       "</style>\n",
       "<table border=\"1\" class=\"dataframe\">\n",
       "  <thead>\n",
       "    <tr style=\"text-align: right;\">\n",
       "      <th></th>\n",
       "      <th>age</th>\n",
       "      <th>bmi</th>\n",
       "      <th>children</th>\n",
       "      <th>charges</th>\n",
       "    </tr>\n",
       "  </thead>\n",
       "  <tbody>\n",
       "    <tr>\n",
       "      <th>count</th>\n",
       "      <td>1338.000000</td>\n",
       "      <td>1338.000000</td>\n",
       "      <td>1338.000000</td>\n",
       "      <td>1338.000000</td>\n",
       "    </tr>\n",
       "    <tr>\n",
       "      <th>mean</th>\n",
       "      <td>39.207025</td>\n",
       "      <td>30.663397</td>\n",
       "      <td>1.094918</td>\n",
       "      <td>13270.422265</td>\n",
       "    </tr>\n",
       "    <tr>\n",
       "      <th>std</th>\n",
       "      <td>14.049960</td>\n",
       "      <td>6.098187</td>\n",
       "      <td>1.205493</td>\n",
       "      <td>12110.011237</td>\n",
       "    </tr>\n",
       "    <tr>\n",
       "      <th>min</th>\n",
       "      <td>18.000000</td>\n",
       "      <td>15.960000</td>\n",
       "      <td>0.000000</td>\n",
       "      <td>1121.873900</td>\n",
       "    </tr>\n",
       "    <tr>\n",
       "      <th>25%</th>\n",
       "      <td>27.000000</td>\n",
       "      <td>26.296250</td>\n",
       "      <td>0.000000</td>\n",
       "      <td>4740.287150</td>\n",
       "    </tr>\n",
       "    <tr>\n",
       "      <th>50%</th>\n",
       "      <td>39.000000</td>\n",
       "      <td>30.400000</td>\n",
       "      <td>1.000000</td>\n",
       "      <td>9382.033000</td>\n",
       "    </tr>\n",
       "    <tr>\n",
       "      <th>75%</th>\n",
       "      <td>51.000000</td>\n",
       "      <td>34.693750</td>\n",
       "      <td>2.000000</td>\n",
       "      <td>16639.912515</td>\n",
       "    </tr>\n",
       "    <tr>\n",
       "      <th>max</th>\n",
       "      <td>64.000000</td>\n",
       "      <td>53.130000</td>\n",
       "      <td>5.000000</td>\n",
       "      <td>63770.428010</td>\n",
       "    </tr>\n",
       "  </tbody>\n",
       "</table>\n",
       "</div>"
      ],
      "text/plain": [
       "               age          bmi     children       charges\n",
       "count  1338.000000  1338.000000  1338.000000   1338.000000\n",
       "mean     39.207025    30.663397     1.094918  13270.422265\n",
       "std      14.049960     6.098187     1.205493  12110.011237\n",
       "min      18.000000    15.960000     0.000000   1121.873900\n",
       "25%      27.000000    26.296250     0.000000   4740.287150\n",
       "50%      39.000000    30.400000     1.000000   9382.033000\n",
       "75%      51.000000    34.693750     2.000000  16639.912515\n",
       "max      64.000000    53.130000     5.000000  63770.428010"
      ]
     },
     "execution_count": 10,
     "metadata": {},
     "output_type": "execute_result"
    }
   ],
   "source": [
    "#medical dataset stats\n",
    "medical_data.describe()"
   ]
  },
  {
   "cell_type": "code",
   "execution_count": 11,
   "id": "7d22024f",
   "metadata": {},
   "outputs": [
    {
     "data": {
      "text/plain": [
       "(1338, 7)"
      ]
     },
     "execution_count": 11,
     "metadata": {},
     "output_type": "execute_result"
    }
   ],
   "source": [
    "#medical data rows & columns\n",
    "medical_data.shape"
   ]
  },
  {
   "cell_type": "code",
   "execution_count": 12,
   "id": "c6a3c751",
   "metadata": {},
   "outputs": [
    {
     "name": "stdout",
     "output_type": "stream",
     "text": [
      "The shape of the airport dataset is: (94848, 13)\n",
      "Number of duplicate rows: 16\n"
     ]
    }
   ],
   "source": [
    "#Checking for duplicates in the airport dataset\n",
    "print(\"The shape of the airport dataset is: \" + str(airport_data.shape))\n",
    "duplicates = airport_data.duplicated()\n",
    "print(\"Number of duplicate rows:\", duplicates.sum())\n",
    "#16 duplicates were found"
   ]
  },
  {
   "cell_type": "code",
   "execution_count": 13,
   "id": "68c9edbc",
   "metadata": {},
   "outputs": [
    {
     "name": "stdout",
     "output_type": "stream",
     "text": [
      "The new shape of the airport dataset is :(94832, 13)\n"
     ]
    }
   ],
   "source": [
    "#Dropping those duplicates\n",
    "airport_data = airport_data.drop_duplicates()\n",
    "print(\"The new shape of the airport dataset is :\" + str(airport_data.shape))\n",
    "#16 Duplicates were dropped"
   ]
  },
  {
   "cell_type": "code",
   "execution_count": 14,
   "id": "d611f591",
   "metadata": {},
   "outputs": [
    {
     "name": "stdout",
     "output_type": "stream",
     "text": [
      "The shape of the medical dataset is: (1338, 7)\n",
      "Number of duplicate rows: 1\n"
     ]
    }
   ],
   "source": [
    "#Checking for duplicates in the medical dataset\n",
    "print(\"The shape of the medical dataset is: \" + str(medical_data.shape))\n",
    "duplicates = medical_data.duplicated()\n",
    "print(\"Number of duplicate rows:\", duplicates.sum())\n",
    "#1 duplicate value was found"
   ]
  },
  {
   "cell_type": "code",
   "execution_count": 15,
   "id": "7e247dca",
   "metadata": {},
   "outputs": [
    {
     "name": "stdout",
     "output_type": "stream",
     "text": [
      "The new shape of the medical dataset is :(1337, 7)\n"
     ]
    }
   ],
   "source": [
    "#Dropping those duplicates\n",
    "medical_data = medical_data.drop_duplicates()\n",
    "print(\"The new shape of the medical dataset is :\" + str(medical_data.shape))\n",
    "#1 duplicate was dropped"
   ]
  },
  {
   "cell_type": "code",
   "execution_count": 16,
   "id": "13909642",
   "metadata": {},
   "outputs": [
    {
     "name": "stdout",
     "output_type": "stream",
     "text": [
      "Number of missing values:\n",
      " Claim Number     0\n",
      "Date Received    0\n",
      "Incident Date    0\n",
      "Airport Code     0\n",
      "Airport Name     0\n",
      "Airline Name     0\n",
      "Claim Type       0\n",
      "Claim Site       0\n",
      "Item             0\n",
      "Claim Amount     0\n",
      "Status           0\n",
      "Close Amount     0\n",
      "Disposition      0\n",
      "dtype: int64\n"
     ]
    }
   ],
   "source": [
    "#Checking for NA values in the airport dataset\n",
    "na_data = airport_data.isnull().sum()\n",
    "print(\"Number of missing values:\\n\", na_data)\n",
    "#No NA values found"
   ]
  },
  {
   "cell_type": "code",
   "execution_count": 17,
   "id": "12e10897",
   "metadata": {},
   "outputs": [],
   "source": [
    "#Dropping those NA values\n",
    "airport_data.dropna(inplace = True)"
   ]
  },
  {
   "cell_type": "code",
   "execution_count": 18,
   "id": "46d034ef",
   "metadata": {},
   "outputs": [
    {
     "name": "stdout",
     "output_type": "stream",
     "text": [
      "Number of missing values:\n",
      " age         0\n",
      "sex         0\n",
      "bmi         0\n",
      "children    0\n",
      "smoker      0\n",
      "region      0\n",
      "charges     0\n",
      "dtype: int64\n"
     ]
    }
   ],
   "source": [
    "#Checking for NA values in the medical dataset\n",
    "na_data = medical_data.isnull().sum()\n",
    "print(\"Number of missing values:\\n\", na_data)\n",
    "#No NA values found"
   ]
  },
  {
   "cell_type": "code",
   "execution_count": 19,
   "id": "ec3feed3",
   "metadata": {},
   "outputs": [],
   "source": [
    "#Dropping those NA values\n",
    "medical_data.dropna(inplace = True)"
   ]
  },
  {
   "cell_type": "code",
   "execution_count": 21,
   "id": "f111e530",
   "metadata": {},
   "outputs": [],
   "source": [
    "#Renaming the columns in the airport dataframe\n",
    "airport_data.rename(columns = {'Claim Number' : 'claim_number', 'Date Received' : 'date_received', 'Incident Date' : 'incident_date', 'Airport Code' : 'airport_code', 'Airport Name' : 'airport_name', 'Airline Name' : 'airline_name', 'Claim Type' : 'claim_type', 'Claim Site' : 'claim_site', 'Item' : 'item', 'Claim Amount' : 'claim_amount', 'Status' : 'status', 'Close Amount' : 'close_amount', 'Disposition' : 'disposition'}, inplace = True)"
   ]
  },
  {
   "cell_type": "code",
   "execution_count": 22,
   "id": "5fc1e495",
   "metadata": {},
   "outputs": [
    {
     "data": {
      "text/html": [
       "<div>\n",
       "<style scoped>\n",
       "    .dataframe tbody tr th:only-of-type {\n",
       "        vertical-align: middle;\n",
       "    }\n",
       "\n",
       "    .dataframe tbody tr th {\n",
       "        vertical-align: top;\n",
       "    }\n",
       "\n",
       "    .dataframe thead th {\n",
       "        text-align: right;\n",
       "    }\n",
       "</style>\n",
       "<table border=\"1\" class=\"dataframe\">\n",
       "  <thead>\n",
       "    <tr style=\"text-align: right;\">\n",
       "      <th></th>\n",
       "      <th>claim_number</th>\n",
       "      <th>date_received</th>\n",
       "      <th>incident_date</th>\n",
       "      <th>airport_code</th>\n",
       "      <th>airport_name</th>\n",
       "      <th>airline_name</th>\n",
       "      <th>claim_type</th>\n",
       "      <th>claim_site</th>\n",
       "      <th>item</th>\n",
       "      <th>claim_amount</th>\n",
       "      <th>status</th>\n",
       "      <th>close_amount</th>\n",
       "      <th>disposition</th>\n",
       "    </tr>\n",
       "  </thead>\n",
       "  <tbody>\n",
       "    <tr>\n",
       "      <th>0</th>\n",
       "      <td>0909802M</td>\n",
       "      <td>4-Jan-02</td>\n",
       "      <td>12/12/2002 0:00</td>\n",
       "      <td>EWR</td>\n",
       "      <td>Newark International Airport</td>\n",
       "      <td>Continental Airlines</td>\n",
       "      <td>Property Damage</td>\n",
       "      <td>Checkpoint</td>\n",
       "      <td>Other</td>\n",
       "      <td>350.00</td>\n",
       "      <td>Approved</td>\n",
       "      <td>350.00</td>\n",
       "      <td>Approve in Full</td>\n",
       "    </tr>\n",
       "    <tr>\n",
       "      <th>1</th>\n",
       "      <td>0202445M</td>\n",
       "      <td>4-Feb-02</td>\n",
       "      <td>11/26/2003 0:00</td>\n",
       "      <td>STL</td>\n",
       "      <td>Lambert St. Louis International</td>\n",
       "      <td>American Airlines</td>\n",
       "      <td>Property Damage</td>\n",
       "      <td>Checked Baggage</td>\n",
       "      <td>Cell Phones</td>\n",
       "      <td>278.88</td>\n",
       "      <td>Settled</td>\n",
       "      <td>227.92</td>\n",
       "      <td>Settle</td>\n",
       "    </tr>\n",
       "    <tr>\n",
       "      <th>2</th>\n",
       "      <td>0909816M</td>\n",
       "      <td>7-Feb-02</td>\n",
       "      <td>1/6/2003 0:00</td>\n",
       "      <td>MIA</td>\n",
       "      <td>Miami International Airport</td>\n",
       "      <td>American Airlines</td>\n",
       "      <td>Property Damage</td>\n",
       "      <td>Checkpoint</td>\n",
       "      <td>Luggage (all types including footlockers)</td>\n",
       "      <td>50.00</td>\n",
       "      <td>Approved</td>\n",
       "      <td>50.00</td>\n",
       "      <td>Approve in Full</td>\n",
       "    </tr>\n",
       "    <tr>\n",
       "      <th>3</th>\n",
       "      <td>2.00503E+12</td>\n",
       "      <td>18-Feb-02</td>\n",
       "      <td>2/5/2005 0:00</td>\n",
       "      <td>MCO</td>\n",
       "      <td>Orlando International Airport</td>\n",
       "      <td>Delta (Song)</td>\n",
       "      <td>Property Damage</td>\n",
       "      <td>Checkpoint</td>\n",
       "      <td>Baby - Strollers; car seats; playpen; etc.</td>\n",
       "      <td>84.79</td>\n",
       "      <td>Approved</td>\n",
       "      <td>84.79</td>\n",
       "      <td>Approve in Full</td>\n",
       "    </tr>\n",
       "    <tr>\n",
       "      <th>4</th>\n",
       "      <td>2.00503E+12</td>\n",
       "      <td>18-Feb-02</td>\n",
       "      <td>2/17/2005 0:00</td>\n",
       "      <td>CAK</td>\n",
       "      <td>Akron-Canton Regional</td>\n",
       "      <td>Air Tran Airlines(do not use)</td>\n",
       "      <td>Passenger Property Loss</td>\n",
       "      <td>Checked Baggage</td>\n",
       "      <td>Other</td>\n",
       "      <td>459.01</td>\n",
       "      <td>Settled</td>\n",
       "      <td>227.00</td>\n",
       "      <td>Settle</td>\n",
       "    </tr>\n",
       "  </tbody>\n",
       "</table>\n",
       "</div>"
      ],
      "text/plain": [
       "  claim_number date_received    incident_date airport_code  \\\n",
       "0     0909802M      4-Jan-02  12/12/2002 0:00          EWR   \n",
       "1     0202445M      4-Feb-02  11/26/2003 0:00          STL   \n",
       "2     0909816M      7-Feb-02    1/6/2003 0:00          MIA   \n",
       "3  2.00503E+12     18-Feb-02    2/5/2005 0:00          MCO   \n",
       "4  2.00503E+12     18-Feb-02   2/17/2005 0:00          CAK   \n",
       "\n",
       "                      airport_name                   airline_name  \\\n",
       "0     Newark International Airport           Continental Airlines   \n",
       "1  Lambert St. Louis International              American Airlines   \n",
       "2      Miami International Airport              American Airlines   \n",
       "3    Orlando International Airport                   Delta (Song)   \n",
       "4            Akron-Canton Regional  Air Tran Airlines(do not use)   \n",
       "\n",
       "                claim_type       claim_site  \\\n",
       "0          Property Damage       Checkpoint   \n",
       "1          Property Damage  Checked Baggage   \n",
       "2          Property Damage       Checkpoint   \n",
       "3          Property Damage       Checkpoint   \n",
       "4  Passenger Property Loss  Checked Baggage   \n",
       "\n",
       "                                         item  claim_amount    status  \\\n",
       "0                                       Other        350.00  Approved   \n",
       "1                                 Cell Phones        278.88   Settled   \n",
       "2   Luggage (all types including footlockers)         50.00  Approved   \n",
       "3  Baby - Strollers; car seats; playpen; etc.         84.79  Approved   \n",
       "4                                       Other        459.01   Settled   \n",
       "\n",
       "   close_amount      disposition  \n",
       "0        350.00  Approve in Full  \n",
       "1        227.92           Settle  \n",
       "2         50.00  Approve in Full  \n",
       "3         84.79  Approve in Full  \n",
       "4        227.00           Settle  "
      ]
     },
     "execution_count": 22,
     "metadata": {},
     "output_type": "execute_result"
    }
   ],
   "source": [
    "#Checking to see that the column names have changed\n",
    "airport_data.head()"
   ]
  },
  {
   "cell_type": "code",
   "execution_count": 23,
   "id": "76f48247",
   "metadata": {},
   "outputs": [
    {
     "data": {
      "text/plain": [
       "claim_number      object\n",
       "date_received     object\n",
       "incident_date     object\n",
       "airport_code      object\n",
       "airport_name      object\n",
       "airline_name      object\n",
       "claim_type        object\n",
       "claim_site        object\n",
       "item              object\n",
       "claim_amount     float64\n",
       "status            object\n",
       "close_amount     float64\n",
       "disposition       object\n",
       "dtype: object"
      ]
     },
     "execution_count": 23,
     "metadata": {},
     "output_type": "execute_result"
    }
   ],
   "source": [
    "#Changing the numeric columns to float datatype and checking that the changes were made\n",
    "airport_data = airport_data.astype({'claim_amount' : 'float', 'close_amount' : 'float'})\n",
    "airport_data.dtypes"
   ]
  },
  {
   "cell_type": "code",
   "execution_count": 24,
   "id": "9f88d7e3",
   "metadata": {},
   "outputs": [
    {
     "data": {
      "text/plain": [
       "claim_number             object\n",
       "date_received    datetime64[ns]\n",
       "incident_date            object\n",
       "airport_code             object\n",
       "airport_name             object\n",
       "airline_name             object\n",
       "claim_type               object\n",
       "claim_site               object\n",
       "item                     object\n",
       "claim_amount            float64\n",
       "status                   object\n",
       "close_amount            float64\n",
       "disposition              object\n",
       "dtype: object"
      ]
     },
     "execution_count": 24,
     "metadata": {},
     "output_type": "execute_result"
    }
   ],
   "source": [
    "#Changing the date received column to the datetime datatype and checking that the change was made\n",
    "airport_data['date_received']=pd.to_datetime(airport_data.date_received)\n",
    "airport_data.dtypes"
   ]
  },
  {
   "cell_type": "code",
   "execution_count": 25,
   "id": "2d760398",
   "metadata": {},
   "outputs": [
    {
     "data": {
      "text/plain": [
       "<AxesSubplot:title={'center':'Number of Claims per Site'}, xlabel='Claim Site', ylabel='Number of Claims'>"
      ]
     },
     "execution_count": 25,
     "metadata": {},
     "output_type": "execute_result"
    },
    {
     "data": {
      "image/png": "[encoded data removed]",
      "text/plain": [
       "<Figure size 640x480 with 1 Axes>"
      ]
     },
     "metadata": {},
     "output_type": "display_data"
    }
   ],
   "source": [
    "#Plotting number of claims from each claim site\n",
    "airport_data.groupby('claim_site').aggregate({'claim_number' : 'count'}).plot.bar(title = 'Number of Claims per Site', xlabel = 'Claim Site', ylabel = 'Number of Claims')"
   ]
  },
  {
   "cell_type": "code",
   "execution_count": 27,
   "id": "342f5387",
   "metadata": {},
   "outputs": [
    {
     "data": {
      "text/html": [
       "<div>\n",
       "<style scoped>\n",
       "    .dataframe tbody tr th:only-of-type {\n",
       "        vertical-align: middle;\n",
       "    }\n",
       "\n",
       "    .dataframe tbody tr th {\n",
       "        vertical-align: top;\n",
       "    }\n",
       "\n",
       "    .dataframe thead th {\n",
       "        text-align: right;\n",
       "    }\n",
       "</style>\n",
       "<table border=\"1\" class=\"dataframe\">\n",
       "  <thead>\n",
       "    <tr style=\"text-align: right;\">\n",
       "      <th></th>\n",
       "      <th>charges</th>\n",
       "    </tr>\n",
       "  </thead>\n",
       "  <tbody>\n",
       "    <tr>\n",
       "      <th>charges</th>\n",
       "      <td>1.000000</td>\n",
       "    </tr>\n",
       "    <tr>\n",
       "      <th>age</th>\n",
       "      <td>0.298308</td>\n",
       "    </tr>\n",
       "    <tr>\n",
       "      <th>bmi</th>\n",
       "      <td>0.198401</td>\n",
       "    </tr>\n",
       "    <tr>\n",
       "      <th>children</th>\n",
       "      <td>0.067389</td>\n",
       "    </tr>\n",
       "  </tbody>\n",
       "</table>\n",
       "</div>"
      ],
      "text/plain": [
       "           charges\n",
       "charges   1.000000\n",
       "age       0.298308\n",
       "bmi       0.198401\n",
       "children  0.067389"
      ]
     },
     "execution_count": 27,
     "metadata": {},
     "output_type": "execute_result"
    }
   ],
   "source": [
    "#Getting correlations of children, bmi, and age with charges\n",
    "medical_data.corr()[['charges']].sort_values(by = 'charges', ascending = False)"
   ]
  },
  {
   "cell_type": "code",
   "execution_count": 28,
   "id": "f99132f1",
   "metadata": {},
   "outputs": [
    {
     "name": "stdout",
     "output_type": "stream",
     "text": [
      "AxesSubplot(0.125,0.11;0.775x0.77)\n"
     ]
    },
    {
     "data": {
      "text/plain": [
       "(1337, 7)"
      ]
     },
     "execution_count": 28,
     "metadata": {},
     "output_type": "execute_result"
    },
    {
     "data": {
      "image/png": "[encoded data removed]",
      "text/plain": [
       "<Figure size 640x480 with 1 Axes>"
      ]
     },
     "metadata": {},
     "output_type": "display_data"
    }
   ],
   "source": [
    "#Check for outliers in charges column\n",
    "print(sns.boxplot(x = medical_data['charges']))\n",
    "medical_data.shape"
   ]
  },
  {
   "cell_type": "code",
   "execution_count": 29,
   "id": "3429e85c",
   "metadata": {},
   "outputs": [
    {
     "data": {
      "text/plain": [
       "(1198, 7)"
      ]
     },
     "execution_count": 29,
     "metadata": {},
     "output_type": "execute_result"
    }
   ],
   "source": [
    "#Remove outliers in charges column\n",
    "Q1 = np.percentile(medical_data['charges'], 25, interpolation = 'midpoint')\n",
    "Q3 = np.percentile(medical_data['charges'], 75, interpolation = 'midpoint')\n",
    "IQR = Q3 - Q1\n",
    "upper=Q3+1.5*IQR\n",
    "lower=Q1-1.5*IQR\n",
    "medical_data = medical_data.loc[(medical_data['charges'] < upper) & (medical_data['charges'] > lower)]\n",
    "#Checking to make sure outliers have been removed\n",
    "medical_data.shape"
   ]
  },
  {
   "cell_type": "code",
   "execution_count": 30,
   "id": "bc806066",
   "metadata": {},
   "outputs": [
    {
     "data": {
      "text/plain": [
       "<AxesSubplot:xlabel='region'>"
      ]
     },
     "execution_count": 30,
     "metadata": {},
     "output_type": "execute_result"
    },
    {
     "data": {
      "image/png": "[encoded data removed]",
      "text/plain": [
       "<Figure size 640x480 with 1 Axes>"
      ]
     },
     "metadata": {},
     "output_type": "display_data"
    }
   ],
   "source": [
    "#Number of pople distributed by region plotted using chain method\n",
    "medical_data.groupby(['region'])['region'].count().plot.bar()"
   ]
  },
  {
   "cell_type": "code",
   "execution_count": 32,
   "id": "f1295211",
   "metadata": {},
   "outputs": [
    {
     "name": "stdout",
     "output_type": "stream",
     "text": [
      "The average claim amount is : 3635.4109774129097\n"
     ]
    }
   ],
   "source": [
    "#Whats the average claim amount\n",
    "print('The average claim amount is : ' + str(airport_data['claim_amount'].mean()))"
   ]
  },
  {
   "cell_type": "code",
   "execution_count": 33,
   "id": "a1c4e9a6",
   "metadata": {},
   "outputs": [
    {
     "data": {
      "text/plain": [
       "<AxesSubplot:ylabel='Frequency'>"
      ]
     },
     "execution_count": 33,
     "metadata": {},
     "output_type": "execute_result"
    },
    {
     "data": {
      "image/png": "[encoded data removed]",
      "text/plain": [
       "<Figure size 640x480 with 1 Axes>"
      ]
     },
     "metadata": {},
     "output_type": "display_data"
    }
   ],
   "source": [
    "#Whats the distribution of claims less that $5000\n",
    "airport_data[['claim_amount']].query('claim_amount < 5000').plot.hist()"
   ]
  },
  {
   "cell_type": "code",
   "execution_count": 34,
   "id": "b79a5f91",
   "metadata": {},
   "outputs": [
    {
     "data": {
      "text/plain": [
       "airport_name\n",
       "Los Angeles International Airport       4492\n",
       "John F. Kennedy International           3835\n",
       "Chicago O'Hare International Airport    3619\n",
       "Newark International Airport            3593\n",
       "Miami International Airport             2986\n",
       "Name: claim_amount, dtype: int64"
      ]
     },
     "execution_count": 34,
     "metadata": {},
     "output_type": "execute_result"
    }
   ],
   "source": [
    "#What are the top 5 airports with the most claims?\n",
    "top_5_claims_airports = airport_data.groupby(['airport_name'])['claim_amount'].count().sort_values(ascending = False)\n",
    "top_5_claims_airports.head(5)"
   ]
  },
  {
   "cell_type": "code",
   "execution_count": 36,
   "id": "13438cd6",
   "metadata": {},
   "outputs": [
    {
     "name": "stdout",
     "output_type": "stream",
     "text": [
      "The percentage of people who are obese in the medical costs dataset is: %47.75\n"
     ]
    }
   ],
   "source": [
    "#What percentage of people in the dataset are obese?\n",
    "obesity_percentage = (medical_data[medical_data['bmi'] >= 30]['bmi'].count() / medical_data['bmi'].count()) * 100\n",
    "obesity_percentage_rounded = obesity_percentage.round(2)\n",
    "print(f'The percentage of people who are obese in the medical costs dataset is: %'+ str(obesity_percentage_rounded))"
   ]
  },
  {
   "cell_type": "code",
   "execution_count": 37,
   "id": "376858ff",
   "metadata": {},
   "outputs": [],
   "source": [
    "#Creating a multiple regression using all variables \n",
    "catcols = ['sex', 'smoker', 'region']\n",
    "dummies = pd.get_dummies(medical_data[catcols])"
   ]
  },
  {
   "cell_type": "code",
   "execution_count": 38,
   "id": "6e557921",
   "metadata": {},
   "outputs": [
    {
     "name": "stdout",
     "output_type": "stream",
     "text": [
      "<class 'pandas.core.frame.DataFrame'>\n",
      "Int64Index: 1198 entries, 0 to 1337\n",
      "Data columns (total 12 columns):\n",
      " #   Column            Non-Null Count  Dtype  \n",
      "---  ------            --------------  -----  \n",
      " 0   age               1198 non-null   int64  \n",
      " 1   bmi               1198 non-null   float64\n",
      " 2   children          1198 non-null   int64  \n",
      " 3   charges           1198 non-null   float64\n",
      " 4   sex_female        1198 non-null   uint8  \n",
      " 5   sex_male          1198 non-null   uint8  \n",
      " 6   smoker_no         1198 non-null   uint8  \n",
      " 7   smoker_yes        1198 non-null   uint8  \n",
      " 8   region_northeast  1198 non-null   uint8  \n",
      " 9   region_northwest  1198 non-null   uint8  \n",
      " 10  region_southeast  1198 non-null   uint8  \n",
      " 11  region_southwest  1198 non-null   uint8  \n",
      "dtypes: float64(2), int64(2), uint8(8)\n",
      "memory usage: 88.4 KB\n"
     ]
    }
   ],
   "source": [
    "#Continued\n",
    "medicalDummies = medical_data.drop(columns = catcols)\n",
    "dataDummies = medicalDummies.join(dummies)\n",
    "dataDummies.info()"
   ]
  },
  {
   "cell_type": "code",
   "execution_count": 39,
   "id": "8609388e",
   "metadata": {},
   "outputs": [
    {
     "data": {
      "text/html": [
       "<div>\n",
       "<style scoped>\n",
       "    .dataframe tbody tr th:only-of-type {\n",
       "        vertical-align: middle;\n",
       "    }\n",
       "\n",
       "    .dataframe tbody tr th {\n",
       "        vertical-align: top;\n",
       "    }\n",
       "\n",
       "    .dataframe thead th {\n",
       "        text-align: right;\n",
       "    }\n",
       "</style>\n",
       "<table border=\"1\" class=\"dataframe\">\n",
       "  <thead>\n",
       "    <tr style=\"text-align: right;\">\n",
       "      <th></th>\n",
       "      <th>age</th>\n",
       "      <th>bmi</th>\n",
       "      <th>children</th>\n",
       "      <th>charges</th>\n",
       "      <th>sex_female</th>\n",
       "      <th>sex_male</th>\n",
       "      <th>smoker_no</th>\n",
       "      <th>smoker_yes</th>\n",
       "      <th>region_northeast</th>\n",
       "      <th>region_northwest</th>\n",
       "      <th>region_southeast</th>\n",
       "      <th>region_southwest</th>\n",
       "    </tr>\n",
       "  </thead>\n",
       "  <tbody>\n",
       "    <tr>\n",
       "      <th>0</th>\n",
       "      <td>-1.423338</td>\n",
       "      <td>-0.365157</td>\n",
       "      <td>-0.893931</td>\n",
       "      <td>0.960352</td>\n",
       "      <td>1</td>\n",
       "      <td>0</td>\n",
       "      <td>0</td>\n",
       "      <td>1</td>\n",
       "      <td>0</td>\n",
       "      <td>0</td>\n",
       "      <td>0</td>\n",
       "      <td>1</td>\n",
       "    </tr>\n",
       "    <tr>\n",
       "      <th>1</th>\n",
       "      <td>-1.494481</td>\n",
       "      <td>0.611462</td>\n",
       "      <td>-0.070139</td>\n",
       "      <td>-1.134296</td>\n",
       "      <td>0</td>\n",
       "      <td>1</td>\n",
       "      <td>1</td>\n",
       "      <td>0</td>\n",
       "      <td>0</td>\n",
       "      <td>0</td>\n",
       "      <td>1</td>\n",
       "      <td>0</td>\n",
       "    </tr>\n",
       "    <tr>\n",
       "      <th>2</th>\n",
       "      <td>-0.783050</td>\n",
       "      <td>0.483354</td>\n",
       "      <td>1.577444</td>\n",
       "      <td>-0.757919</td>\n",
       "      <td>0</td>\n",
       "      <td>1</td>\n",
       "      <td>1</td>\n",
       "      <td>0</td>\n",
       "      <td>0</td>\n",
       "      <td>0</td>\n",
       "      <td>1</td>\n",
       "      <td>0</td>\n",
       "    </tr>\n",
       "    <tr>\n",
       "      <th>3</th>\n",
       "      <td>-0.427334</td>\n",
       "      <td>-1.229473</td>\n",
       "      <td>-0.893931</td>\n",
       "      <td>1.664982</td>\n",
       "      <td>0</td>\n",
       "      <td>1</td>\n",
       "      <td>1</td>\n",
       "      <td>0</td>\n",
       "      <td>0</td>\n",
       "      <td>1</td>\n",
       "      <td>0</td>\n",
       "      <td>0</td>\n",
       "    </tr>\n",
       "    <tr>\n",
       "      <th>4</th>\n",
       "      <td>-0.498477</td>\n",
       "      <td>-0.202110</td>\n",
       "      <td>-0.893931</td>\n",
       "      <td>-0.838421</td>\n",
       "      <td>0</td>\n",
       "      <td>1</td>\n",
       "      <td>1</td>\n",
       "      <td>0</td>\n",
       "      <td>0</td>\n",
       "      <td>1</td>\n",
       "      <td>0</td>\n",
       "      <td>0</td>\n",
       "    </tr>\n",
       "  </tbody>\n",
       "</table>\n",
       "</div>"
      ],
      "text/plain": [
       "        age       bmi  children   charges  sex_female  sex_male  smoker_no  \\\n",
       "0 -1.423338 -0.365157 -0.893931  0.960352           1         0          0   \n",
       "1 -1.494481  0.611462 -0.070139 -1.134296           0         1          1   \n",
       "2 -0.783050  0.483354  1.577444 -0.757919           0         1          1   \n",
       "3 -0.427334 -1.229473 -0.893931  1.664982           0         1          1   \n",
       "4 -0.498477 -0.202110 -0.893931 -0.838421           0         1          1   \n",
       "\n",
       "   smoker_yes  region_northeast  region_northwest  region_southeast  \\\n",
       "0           1                 0                 0                 0   \n",
       "1           0                 0                 0                 1   \n",
       "2           0                 0                 0                 1   \n",
       "3           0                 0                 1                 0   \n",
       "4           0                 0                 1                 0   \n",
       "\n",
       "   region_southwest  \n",
       "0                 1  \n",
       "1                 0  \n",
       "2                 0  \n",
       "3                 0  \n",
       "4                 0  "
      ]
     },
     "execution_count": 39,
     "metadata": {},
     "output_type": "execute_result"
    }
   ],
   "source": [
    "#Scaling numerical independent variables\n",
    "scaler = StandardScaler()\n",
    "numCols = ['age', 'bmi', 'children', 'charges']\n",
    "dataDummies[numCols] = scaler.fit_transform(dataDummies[numCols])\n",
    "dataDummies.head()"
   ]
  },
  {
   "cell_type": "code",
   "execution_count": 40,
   "id": "cef949ca",
   "metadata": {},
   "outputs": [
    {
     "data": {
      "text/html": [
       "<div>\n",
       "<style scoped>\n",
       "    .dataframe tbody tr th:only-of-type {\n",
       "        vertical-align: middle;\n",
       "    }\n",
       "\n",
       "    .dataframe tbody tr th {\n",
       "        vertical-align: top;\n",
       "    }\n",
       "\n",
       "    .dataframe thead th {\n",
       "        text-align: right;\n",
       "    }\n",
       "</style>\n",
       "<table border=\"1\" class=\"dataframe\">\n",
       "  <thead>\n",
       "    <tr style=\"text-align: right;\">\n",
       "      <th></th>\n",
       "      <th>charges</th>\n",
       "    </tr>\n",
       "  </thead>\n",
       "  <tbody>\n",
       "    <tr>\n",
       "      <th>charges</th>\n",
       "      <td>1.000000</td>\n",
       "    </tr>\n",
       "    <tr>\n",
       "      <th>smoker_yes</th>\n",
       "      <td>0.602238</td>\n",
       "    </tr>\n",
       "    <tr>\n",
       "      <th>age</th>\n",
       "      <td>0.436891</td>\n",
       "    </tr>\n",
       "    <tr>\n",
       "      <th>children</th>\n",
       "      <td>0.082932</td>\n",
       "    </tr>\n",
       "    <tr>\n",
       "      <th>region_northeast</th>\n",
       "      <td>0.063449</td>\n",
       "    </tr>\n",
       "    <tr>\n",
       "      <th>region_northwest</th>\n",
       "      <td>0.036872</td>\n",
       "    </tr>\n",
       "    <tr>\n",
       "      <th>sex_female</th>\n",
       "      <td>0.023405</td>\n",
       "    </tr>\n",
       "    <tr>\n",
       "      <th>sex_male</th>\n",
       "      <td>-0.023405</td>\n",
       "    </tr>\n",
       "    <tr>\n",
       "      <th>region_southeast</th>\n",
       "      <td>-0.029230</td>\n",
       "    </tr>\n",
       "    <tr>\n",
       "      <th>bmi</th>\n",
       "      <td>-0.066453</td>\n",
       "    </tr>\n",
       "    <tr>\n",
       "      <th>region_southwest</th>\n",
       "      <td>-0.071474</td>\n",
       "    </tr>\n",
       "    <tr>\n",
       "      <th>smoker_no</th>\n",
       "      <td>-0.602238</td>\n",
       "    </tr>\n",
       "  </tbody>\n",
       "</table>\n",
       "</div>"
      ],
      "text/plain": [
       "                   charges\n",
       "charges           1.000000\n",
       "smoker_yes        0.602238\n",
       "age               0.436891\n",
       "children          0.082932\n",
       "region_northeast  0.063449\n",
       "region_northwest  0.036872\n",
       "sex_female        0.023405\n",
       "sex_male         -0.023405\n",
       "region_southeast -0.029230\n",
       "bmi              -0.066453\n",
       "region_southwest -0.071474\n",
       "smoker_no        -0.602238"
      ]
     },
     "execution_count": 40,
     "metadata": {},
     "output_type": "execute_result"
    }
   ],
   "source": [
    "#Checking correlations of variables with charges\n",
    "dataDummies.corr()[['charges']].sort_values(by = 'charges', ascending = False)"
   ]
  },
  {
   "cell_type": "code",
   "execution_count": 41,
   "id": "42073a21",
   "metadata": {},
   "outputs": [],
   "source": [
    "#Splitting data into train and test subsets with a ratio of 0.3\n",
    "medicalTrain, medicalTest = train_test_split(dataDummies, test_size = 0.3, random_state = 20)"
   ]
  },
  {
   "cell_type": "code",
   "execution_count": 42,
   "id": "30449b7f",
   "metadata": {},
   "outputs": [
    {
     "name": "stdout",
     "output_type": "stream",
     "text": [
      "LinearRegression()\n",
      "The RSquare Score Is: 0.5145005005484817\n",
      "The Intercept Is: 0.7908060669171582\n",
      "The Coefficients of each of the varibles are: [ 0.47640183  0.05943851  0.07436153  0.00765466 -0.00765466 -1.03574258\n",
      "  1.03574258  0.12170102  0.02347898 -0.05239117 -0.09278883]\n"
     ]
    },
    {
     "data": {
      "text/html": [
       "<div>\n",
       "<style scoped>\n",
       "    .dataframe tbody tr th:only-of-type {\n",
       "        vertical-align: middle;\n",
       "    }\n",
       "\n",
       "    .dataframe tbody tr th {\n",
       "        vertical-align: top;\n",
       "    }\n",
       "\n",
       "    .dataframe thead th {\n",
       "        text-align: right;\n",
       "    }\n",
       "</style>\n",
       "<table border=\"1\" class=\"dataframe\">\n",
       "  <thead>\n",
       "    <tr style=\"text-align: right;\">\n",
       "      <th></th>\n",
       "      <th>PredictedCharges</th>\n",
       "      <th>charges</th>\n",
       "    </tr>\n",
       "  </thead>\n",
       "  <tbody>\n",
       "    <tr>\n",
       "      <th>0</th>\n",
       "      <td>0.620866</td>\n",
       "      <td>0.511381</td>\n",
       "    </tr>\n",
       "    <tr>\n",
       "      <th>1</th>\n",
       "      <td>0.397719</td>\n",
       "      <td>0.275860</td>\n",
       "    </tr>\n",
       "    <tr>\n",
       "      <th>2</th>\n",
       "      <td>0.356097</td>\n",
       "      <td>3.252269</td>\n",
       "    </tr>\n",
       "    <tr>\n",
       "      <th>3</th>\n",
       "      <td>-0.574512</td>\n",
       "      <td>-0.771591</td>\n",
       "    </tr>\n",
       "    <tr>\n",
       "      <th>4</th>\n",
       "      <td>-0.141940</td>\n",
       "      <td>-0.357394</td>\n",
       "    </tr>\n",
       "    <tr>\n",
       "      <th>...</th>\n",
       "      <td>...</td>\n",
       "      <td>...</td>\n",
       "    </tr>\n",
       "    <tr>\n",
       "      <th>355</th>\n",
       "      <td>-0.978658</td>\n",
       "      <td>-1.137177</td>\n",
       "    </tr>\n",
       "    <tr>\n",
       "      <th>356</th>\n",
       "      <td>-0.482386</td>\n",
       "      <td>-0.716245</td>\n",
       "    </tr>\n",
       "    <tr>\n",
       "      <th>357</th>\n",
       "      <td>-0.671611</td>\n",
       "      <td>-0.928682</td>\n",
       "    </tr>\n",
       "    <tr>\n",
       "      <th>358</th>\n",
       "      <td>-0.187800</td>\n",
       "      <td>-0.366601</td>\n",
       "    </tr>\n",
       "    <tr>\n",
       "      <th>359</th>\n",
       "      <td>-1.030688</td>\n",
       "      <td>0.213890</td>\n",
       "    </tr>\n",
       "  </tbody>\n",
       "</table>\n",
       "<p>360 rows × 2 columns</p>\n",
       "</div>"
      ],
      "text/plain": [
       "     PredictedCharges   charges\n",
       "0            0.620866  0.511381\n",
       "1            0.397719  0.275860\n",
       "2            0.356097  3.252269\n",
       "3           -0.574512 -0.771591\n",
       "4           -0.141940 -0.357394\n",
       "..                ...       ...\n",
       "355         -0.978658 -1.137177\n",
       "356         -0.482386 -0.716245\n",
       "357         -0.671611 -0.928682\n",
       "358         -0.187800 -0.366601\n",
       "359         -1.030688  0.213890\n",
       "\n",
       "[360 rows x 2 columns]"
      ]
     },
     "execution_count": 42,
     "metadata": {},
     "output_type": "execute_result"
    }
   ],
   "source": [
    "#Making predictions and evaluating the model performance\n",
    "model = LinearRegression()\n",
    "xCols = medicalTrain.corr().drop(columns=['charges']).columns.tolist()\n",
    "print(model.fit(medicalTrain[xCols], medicalTrain['charges']))\n",
    "print(\"The RSquare Score Is: \" + str(model.score(medicalTest[xCols], medicalTest['charges'])))\n",
    "print(\"The Intercept Is: \" + str(model.intercept_))\n",
    "print(\"The Coefficients of each of the varibles are: \" + str(model.coef_))\n",
    "y_predicted = model.predict(medicalTest[xCols])\n",
    "predicted = pd.DataFrame(y_predicted, columns=['PredictedCharges'])\n",
    "final = predicted.join([medicalTest[xCols].reset_index(drop=True),\n",
    "medicalTest['charges'].reset_index(drop=True)])\n",
    "final[['PredictedCharges', 'charges']]"
   ]
  },
  {
   "cell_type": "code",
   "execution_count": 43,
   "id": "13d4be66",
   "metadata": {},
   "outputs": [
    {
     "data": {
      "text/html": [
       "<div>\n",
       "<style scoped>\n",
       "    .dataframe tbody tr th:only-of-type {\n",
       "        vertical-align: middle;\n",
       "    }\n",
       "\n",
       "    .dataframe tbody tr th {\n",
       "        vertical-align: top;\n",
       "    }\n",
       "\n",
       "    .dataframe thead th {\n",
       "        text-align: right;\n",
       "    }\n",
       "</style>\n",
       "<table border=\"1\" class=\"dataframe\">\n",
       "  <thead>\n",
       "    <tr style=\"text-align: right;\">\n",
       "      <th></th>\n",
       "      <th>coef</th>\n",
       "    </tr>\n",
       "    <tr>\n",
       "      <th>Variable</th>\n",
       "      <th></th>\n",
       "    </tr>\n",
       "  </thead>\n",
       "  <tbody>\n",
       "    <tr>\n",
       "      <th>smoker_yes</th>\n",
       "      <td>1.035743</td>\n",
       "    </tr>\n",
       "    <tr>\n",
       "      <th>age</th>\n",
       "      <td>0.476402</td>\n",
       "    </tr>\n",
       "    <tr>\n",
       "      <th>region_northeast</th>\n",
       "      <td>0.121701</td>\n",
       "    </tr>\n",
       "    <tr>\n",
       "      <th>children</th>\n",
       "      <td>0.074362</td>\n",
       "    </tr>\n",
       "    <tr>\n",
       "      <th>bmi</th>\n",
       "      <td>0.059439</td>\n",
       "    </tr>\n",
       "    <tr>\n",
       "      <th>region_northwest</th>\n",
       "      <td>0.023479</td>\n",
       "    </tr>\n",
       "    <tr>\n",
       "      <th>sex_female</th>\n",
       "      <td>0.007655</td>\n",
       "    </tr>\n",
       "    <tr>\n",
       "      <th>sex_male</th>\n",
       "      <td>-0.007655</td>\n",
       "    </tr>\n",
       "    <tr>\n",
       "      <th>region_southeast</th>\n",
       "      <td>-0.052391</td>\n",
       "    </tr>\n",
       "    <tr>\n",
       "      <th>region_southwest</th>\n",
       "      <td>-0.092789</td>\n",
       "    </tr>\n",
       "    <tr>\n",
       "      <th>smoker_no</th>\n",
       "      <td>-1.035743</td>\n",
       "    </tr>\n",
       "  </tbody>\n",
       "</table>\n",
       "</div>"
      ],
      "text/plain": [
       "                      coef\n",
       "Variable                  \n",
       "smoker_yes        1.035743\n",
       "age               0.476402\n",
       "region_northeast  0.121701\n",
       "children          0.074362\n",
       "bmi               0.059439\n",
       "region_northwest  0.023479\n",
       "sex_female        0.007655\n",
       "sex_male         -0.007655\n",
       "region_southeast -0.052391\n",
       "region_southwest -0.092789\n",
       "smoker_no        -1.035743"
      ]
     },
     "execution_count": 43,
     "metadata": {},
     "output_type": "execute_result"
    }
   ],
   "source": [
    "#Importance of each independent variable in terms of their contributions to the dependent variable.\n",
    "(pd.DataFrame({'coef':model.coef_, 'Variable':xCols})\n",
    ".sort_values(by = 'coef', ascending = False)\n",
    ".set_index('Variable'))"
   ]
  },
  {
   "cell_type": "code",
   "execution_count": 45,
   "id": "f231eaf1",
   "metadata": {},
   "outputs": [
    {
     "data": {
      "text/html": [
       "<div>\n",
       "<style scoped>\n",
       "    .dataframe tbody tr th:only-of-type {\n",
       "        vertical-align: middle;\n",
       "    }\n",
       "\n",
       "    .dataframe tbody tr th {\n",
       "        vertical-align: top;\n",
       "    }\n",
       "\n",
       "    .dataframe thead th {\n",
       "        text-align: right;\n",
       "    }\n",
       "</style>\n",
       "<table border=\"1\" class=\"dataframe\">\n",
       "  <thead>\n",
       "    <tr style=\"text-align: right;\">\n",
       "      <th></th>\n",
       "      <th>claim_number</th>\n",
       "      <th>date_received</th>\n",
       "      <th>incident_date</th>\n",
       "      <th>airport_code</th>\n",
       "      <th>airport_name</th>\n",
       "      <th>airline_name</th>\n",
       "      <th>claim_type</th>\n",
       "      <th>claim_site</th>\n",
       "      <th>item</th>\n",
       "      <th>claim_amount</th>\n",
       "      <th>status</th>\n",
       "      <th>close_amount</th>\n",
       "      <th>disposition</th>\n",
       "    </tr>\n",
       "  </thead>\n",
       "  <tbody>\n",
       "    <tr>\n",
       "      <th>0</th>\n",
       "      <td>0909802M</td>\n",
       "      <td>2002-01-04</td>\n",
       "      <td>12/12/2002 0:00</td>\n",
       "      <td>EWR</td>\n",
       "      <td>Newark International Airport</td>\n",
       "      <td>Continental Airlines</td>\n",
       "      <td>Property Damage</td>\n",
       "      <td>Checkpoint</td>\n",
       "      <td>Other</td>\n",
       "      <td>350.00</td>\n",
       "      <td>Approved</td>\n",
       "      <td>350.00</td>\n",
       "      <td>Approve in Full</td>\n",
       "    </tr>\n",
       "    <tr>\n",
       "      <th>1</th>\n",
       "      <td>0202445M</td>\n",
       "      <td>2002-02-04</td>\n",
       "      <td>11/26/2003 0:00</td>\n",
       "      <td>STL</td>\n",
       "      <td>Lambert St. Louis International</td>\n",
       "      <td>American Airlines</td>\n",
       "      <td>Property Damage</td>\n",
       "      <td>Checked Baggage</td>\n",
       "      <td>Cell Phones</td>\n",
       "      <td>278.88</td>\n",
       "      <td>Settled</td>\n",
       "      <td>227.92</td>\n",
       "      <td>Settle</td>\n",
       "    </tr>\n",
       "    <tr>\n",
       "      <th>2</th>\n",
       "      <td>0909816M</td>\n",
       "      <td>2002-02-07</td>\n",
       "      <td>1/6/2003 0:00</td>\n",
       "      <td>MIA</td>\n",
       "      <td>Miami International Airport</td>\n",
       "      <td>American Airlines</td>\n",
       "      <td>Property Damage</td>\n",
       "      <td>Checkpoint</td>\n",
       "      <td>Luggage (all types including footlockers)</td>\n",
       "      <td>50.00</td>\n",
       "      <td>Approved</td>\n",
       "      <td>50.00</td>\n",
       "      <td>Approve in Full</td>\n",
       "    </tr>\n",
       "    <tr>\n",
       "      <th>3</th>\n",
       "      <td>2.00503E+12</td>\n",
       "      <td>2002-02-18</td>\n",
       "      <td>2/5/2005 0:00</td>\n",
       "      <td>MCO</td>\n",
       "      <td>Orlando International Airport</td>\n",
       "      <td>Delta (Song)</td>\n",
       "      <td>Property Damage</td>\n",
       "      <td>Checkpoint</td>\n",
       "      <td>Baby - Strollers; car seats; playpen; etc.</td>\n",
       "      <td>84.79</td>\n",
       "      <td>Approved</td>\n",
       "      <td>84.79</td>\n",
       "      <td>Approve in Full</td>\n",
       "    </tr>\n",
       "    <tr>\n",
       "      <th>4</th>\n",
       "      <td>2.00503E+12</td>\n",
       "      <td>2002-02-18</td>\n",
       "      <td>2/17/2005 0:00</td>\n",
       "      <td>CAK</td>\n",
       "      <td>Akron-Canton Regional</td>\n",
       "      <td>Air Tran Airlines(do not use)</td>\n",
       "      <td>Passenger Property Loss</td>\n",
       "      <td>Checked Baggage</td>\n",
       "      <td>Other</td>\n",
       "      <td>459.01</td>\n",
       "      <td>Settled</td>\n",
       "      <td>227.00</td>\n",
       "      <td>Settle</td>\n",
       "    </tr>\n",
       "    <tr>\n",
       "      <th>...</th>\n",
       "      <td>...</td>\n",
       "      <td>...</td>\n",
       "      <td>...</td>\n",
       "      <td>...</td>\n",
       "      <td>...</td>\n",
       "      <td>...</td>\n",
       "      <td>...</td>\n",
       "      <td>...</td>\n",
       "      <td>...</td>\n",
       "      <td>...</td>\n",
       "      <td>...</td>\n",
       "      <td>...</td>\n",
       "      <td>...</td>\n",
       "    </tr>\n",
       "    <tr>\n",
       "      <th>94843</th>\n",
       "      <td>2010010000000.0</td>\n",
       "      <td>2009-12-31</td>\n",
       "      <td>12/14/2009 0:00</td>\n",
       "      <td>EWR</td>\n",
       "      <td>Newark International Airport</td>\n",
       "      <td>Continental Airlines</td>\n",
       "      <td>Property Damage</td>\n",
       "      <td>Checked Baggage</td>\n",
       "      <td>Luggage (all types including footlockers)</td>\n",
       "      <td>175.90</td>\n",
       "      <td>Denied</td>\n",
       "      <td>0.00</td>\n",
       "      <td>Deny</td>\n",
       "    </tr>\n",
       "    <tr>\n",
       "      <th>94844</th>\n",
       "      <td>2010010000000.0</td>\n",
       "      <td>2009-12-31</td>\n",
       "      <td>12/17/2009 7:55</td>\n",
       "      <td>BWI</td>\n",
       "      <td>Baltimore/Washington Intl Thurgood Marshall</td>\n",
       "      <td>Southwest Airlines</td>\n",
       "      <td>Passenger Property Loss</td>\n",
       "      <td>Checked Baggage</td>\n",
       "      <td>Cell Phones (smartphone type-blackberry; iphon...</td>\n",
       "      <td>695.00</td>\n",
       "      <td>Denied</td>\n",
       "      <td>0.00</td>\n",
       "      <td>Deny</td>\n",
       "    </tr>\n",
       "    <tr>\n",
       "      <th>94845</th>\n",
       "      <td>2010010000000.0</td>\n",
       "      <td>2009-12-31</td>\n",
       "      <td>12/15/2009 0:00</td>\n",
       "      <td>SMF</td>\n",
       "      <td>Sacramento International Airport</td>\n",
       "      <td>Southwest Airlines</td>\n",
       "      <td>Passenger Property Loss</td>\n",
       "      <td>Checked Baggage</td>\n",
       "      <td>Locks</td>\n",
       "      <td>25.50</td>\n",
       "      <td>Denied</td>\n",
       "      <td>0.00</td>\n",
       "      <td>Deny</td>\n",
       "    </tr>\n",
       "    <tr>\n",
       "      <th>94846</th>\n",
       "      <td>2010010000000.0</td>\n",
       "      <td>2009-12-31</td>\n",
       "      <td>12/16/2009 10:00</td>\n",
       "      <td>ENV</td>\n",
       "      <td>Wendover Municipal Airport</td>\n",
       "      <td>Xtra Airways</td>\n",
       "      <td>Passenger Property Loss</td>\n",
       "      <td>Checked Baggage</td>\n",
       "      <td>Locks</td>\n",
       "      <td>20.00</td>\n",
       "      <td>Denied</td>\n",
       "      <td>0.00</td>\n",
       "      <td>Deny</td>\n",
       "    </tr>\n",
       "    <tr>\n",
       "      <th>94847</th>\n",
       "      <td>2009120000000.0</td>\n",
       "      <td>2009-12-31</td>\n",
       "      <td>11/21/2009 9:20</td>\n",
       "      <td>JFK</td>\n",
       "      <td>John F. Kennedy International</td>\n",
       "      <td>American Airlines</td>\n",
       "      <td>Property Damage</td>\n",
       "      <td>Checkpoint</td>\n",
       "      <td>Computer - Laptop</td>\n",
       "      <td>1228.95</td>\n",
       "      <td>Settled</td>\n",
       "      <td>826.72</td>\n",
       "      <td>Settle</td>\n",
       "    </tr>\n",
       "  </tbody>\n",
       "</table>\n",
       "<p>94832 rows × 13 columns</p>\n",
       "</div>"
      ],
      "text/plain": [
       "          claim_number date_received     incident_date airport_code  \\\n",
       "0             0909802M    2002-01-04   12/12/2002 0:00          EWR   \n",
       "1             0202445M    2002-02-04   11/26/2003 0:00          STL   \n",
       "2             0909816M    2002-02-07     1/6/2003 0:00          MIA   \n",
       "3          2.00503E+12    2002-02-18     2/5/2005 0:00          MCO   \n",
       "4          2.00503E+12    2002-02-18    2/17/2005 0:00          CAK   \n",
       "...                ...           ...               ...          ...   \n",
       "94843  2010010000000.0    2009-12-31   12/14/2009 0:00          EWR   \n",
       "94844  2010010000000.0    2009-12-31   12/17/2009 7:55          BWI   \n",
       "94845  2010010000000.0    2009-12-31   12/15/2009 0:00          SMF   \n",
       "94846  2010010000000.0    2009-12-31  12/16/2009 10:00          ENV   \n",
       "94847  2009120000000.0    2009-12-31   11/21/2009 9:20          JFK   \n",
       "\n",
       "                                      airport_name  \\\n",
       "0                     Newark International Airport   \n",
       "1                  Lambert St. Louis International   \n",
       "2                      Miami International Airport   \n",
       "3                    Orlando International Airport   \n",
       "4                            Akron-Canton Regional   \n",
       "...                                            ...   \n",
       "94843                 Newark International Airport   \n",
       "94844  Baltimore/Washington Intl Thurgood Marshall   \n",
       "94845             Sacramento International Airport   \n",
       "94846                   Wendover Municipal Airport   \n",
       "94847                John F. Kennedy International   \n",
       "\n",
       "                        airline_name               claim_type  \\\n",
       "0               Continental Airlines          Property Damage   \n",
       "1                  American Airlines          Property Damage   \n",
       "2                  American Airlines          Property Damage   \n",
       "3                       Delta (Song)          Property Damage   \n",
       "4      Air Tran Airlines(do not use)  Passenger Property Loss   \n",
       "...                              ...                      ...   \n",
       "94843           Continental Airlines          Property Damage   \n",
       "94844             Southwest Airlines  Passenger Property Loss   \n",
       "94845             Southwest Airlines  Passenger Property Loss   \n",
       "94846                   Xtra Airways  Passenger Property Loss   \n",
       "94847              American Airlines          Property Damage   \n",
       "\n",
       "            claim_site                                               item  \\\n",
       "0           Checkpoint                                              Other   \n",
       "1      Checked Baggage                                        Cell Phones   \n",
       "2           Checkpoint          Luggage (all types including footlockers)   \n",
       "3           Checkpoint         Baby - Strollers; car seats; playpen; etc.   \n",
       "4      Checked Baggage                                              Other   \n",
       "...                ...                                                ...   \n",
       "94843  Checked Baggage          Luggage (all types including footlockers)   \n",
       "94844  Checked Baggage  Cell Phones (smartphone type-blackberry; iphon...   \n",
       "94845  Checked Baggage                                              Locks   \n",
       "94846  Checked Baggage                                              Locks   \n",
       "94847       Checkpoint                                  Computer - Laptop   \n",
       "\n",
       "       claim_amount    status  close_amount      disposition  \n",
       "0            350.00  Approved        350.00  Approve in Full  \n",
       "1            278.88   Settled        227.92           Settle  \n",
       "2             50.00  Approved         50.00  Approve in Full  \n",
       "3             84.79  Approved         84.79  Approve in Full  \n",
       "4            459.01   Settled        227.00           Settle  \n",
       "...             ...       ...           ...              ...  \n",
       "94843        175.90    Denied          0.00             Deny  \n",
       "94844        695.00    Denied          0.00             Deny  \n",
       "94845         25.50    Denied          0.00             Deny  \n",
       "94846         20.00    Denied          0.00             Deny  \n",
       "94847       1228.95   Settled        826.72           Settle  \n",
       "\n",
       "[94832 rows x 13 columns]"
      ]
     },
     "execution_count": 45,
     "metadata": {},
     "output_type": "execute_result"
    }
   ],
   "source": [
    "airport_data"
   ]
  },
  {
   "cell_type": "code",
   "execution_count": 50,
   "id": "c33d3383",
   "metadata": {},
   "outputs": [
    {
     "data": {
      "text/plain": [
       "<AxesSubplot:xlabel='date_received', ylabel='close_amount'>"
      ]
     },
     "execution_count": 50,
     "metadata": {},
     "output_type": "execute_result"
    },
    {
     "data": {
      "image/png": "[encoded data removed]",
      "text/plain": [
       "<Figure size 640x480 with 1 Axes>"
      ]
     },
     "metadata": {},
     "output_type": "display_data"
    }
   ],
   "source": [
    "#Finding the pattern or trend for close amount\n",
    "airport_data.plot.scatter(x='date_received', y='close_amount')\n",
    "#There seems to be a spike in claim amounts around 2005 and then it comes back down significantly"
   ]
  },
  {
   "cell_type": "code",
   "execution_count": 52,
   "id": "d366e419",
   "metadata": {},
   "outputs": [
    {
     "data": {
      "text/plain": [
       "(array([1.0000e+00, 0.0000e+00, 1.0000e+00, 0.0000e+00, 1.0000e+00,\n",
       "        3.0000e+00, 9.0000e+00, 7.2280e+03, 1.6986e+04, 2.1027e+04,\n",
       "        1.7924e+04, 1.8785e+04, 1.2646e+04, 2.1700e+02, 0.0000e+00,\n",
       "        0.0000e+00, 0.0000e+00, 0.0000e+00, 0.0000e+00, 0.0000e+00,\n",
       "        0.0000e+00, 0.0000e+00, 0.0000e+00, 0.0000e+00, 0.0000e+00,\n",
       "        3.0000e+00, 0.0000e+00, 0.0000e+00, 0.0000e+00, 0.0000e+00,\n",
       "        0.0000e+00, 0.0000e+00, 0.0000e+00, 0.0000e+00, 0.0000e+00,\n",
       "        0.0000e+00, 0.0000e+00, 0.0000e+00, 0.0000e+00, 0.0000e+00,\n",
       "        0.0000e+00, 0.0000e+00, 0.0000e+00, 0.0000e+00, 0.0000e+00,\n",
       "        0.0000e+00, 0.0000e+00, 0.0000e+00, 0.0000e+00, 1.0000e+00]),\n",
       " array([ 8770.  ,  9218.24,  9666.48, 10114.72, 10562.96, 11011.2 ,\n",
       "        11459.44, 11907.68, 12355.92, 12804.16, 13252.4 , 13700.64,\n",
       "        14148.88, 14597.12, 15045.36, 15493.6 , 15941.84, 16390.08,\n",
       "        16838.32, 17286.56, 17734.8 , 18183.04, 18631.28, 19079.52,\n",
       "        19527.76, 19976.  , 20424.24, 20872.48, 21320.72, 21768.96,\n",
       "        22217.2 , 22665.44, 23113.68, 23561.92, 24010.16, 24458.4 ,\n",
       "        24906.64, 25354.88, 25803.12, 26251.36, 26699.6 , 27147.84,\n",
       "        27596.08, 28044.32, 28492.56, 28940.8 , 29389.04, 29837.28,\n",
       "        30285.52, 30733.76, 31182.  ]),\n",
       " <BarContainer object of 50 artists>)"
      ]
     },
     "execution_count": 52,
     "metadata": {},
     "output_type": "execute_result"
    },
    {
     "data": {
      "image/png": "[encoded data removed]",
      "text/plain": [
       "<Figure size 640x480 with 1 Axes>"
      ]
     },
     "metadata": {},
     "output_type": "display_data"
    }
   ],
   "source": [
    "#Creating a visual that shows the patten or trend\n",
    "plt.hist(airport_data['date_received'], bins = 50)"
   ]
  },
  {
   "cell_type": "code",
   "execution_count": 56,
   "id": "dfb49126",
   "metadata": {},
   "outputs": [
    {
     "data": {
      "text/html": [
       "<div>\n",
       "<style scoped>\n",
       "    .dataframe tbody tr th:only-of-type {\n",
       "        vertical-align: middle;\n",
       "    }\n",
       "\n",
       "    .dataframe tbody tr th {\n",
       "        vertical-align: top;\n",
       "    }\n",
       "\n",
       "    .dataframe thead th {\n",
       "        text-align: right;\n",
       "    }\n",
       "</style>\n",
       "<table border=\"1\" class=\"dataframe\">\n",
       "  <thead>\n",
       "    <tr style=\"text-align: right;\">\n",
       "      <th></th>\n",
       "      <th>age</th>\n",
       "      <th>sex</th>\n",
       "      <th>bmi</th>\n",
       "      <th>children</th>\n",
       "      <th>smoker</th>\n",
       "      <th>region</th>\n",
       "      <th>charges</th>\n",
       "      <th>weight_class</th>\n",
       "    </tr>\n",
       "  </thead>\n",
       "  <tbody>\n",
       "    <tr>\n",
       "      <th>0</th>\n",
       "      <td>19</td>\n",
       "      <td>female</td>\n",
       "      <td>27.900</td>\n",
       "      <td>0</td>\n",
       "      <td>yes</td>\n",
       "      <td>southwest</td>\n",
       "      <td>16884.92400</td>\n",
       "      <td>Overweight</td>\n",
       "    </tr>\n",
       "    <tr>\n",
       "      <th>1</th>\n",
       "      <td>18</td>\n",
       "      <td>male</td>\n",
       "      <td>33.770</td>\n",
       "      <td>1</td>\n",
       "      <td>no</td>\n",
       "      <td>southeast</td>\n",
       "      <td>1725.55230</td>\n",
       "      <td>Obese</td>\n",
       "    </tr>\n",
       "    <tr>\n",
       "      <th>2</th>\n",
       "      <td>28</td>\n",
       "      <td>male</td>\n",
       "      <td>33.000</td>\n",
       "      <td>3</td>\n",
       "      <td>no</td>\n",
       "      <td>southeast</td>\n",
       "      <td>4449.46200</td>\n",
       "      <td>Obese</td>\n",
       "    </tr>\n",
       "    <tr>\n",
       "      <th>3</th>\n",
       "      <td>33</td>\n",
       "      <td>male</td>\n",
       "      <td>22.705</td>\n",
       "      <td>0</td>\n",
       "      <td>no</td>\n",
       "      <td>northwest</td>\n",
       "      <td>21984.47061</td>\n",
       "      <td>Healthy</td>\n",
       "    </tr>\n",
       "    <tr>\n",
       "      <th>4</th>\n",
       "      <td>32</td>\n",
       "      <td>male</td>\n",
       "      <td>28.880</td>\n",
       "      <td>0</td>\n",
       "      <td>no</td>\n",
       "      <td>northwest</td>\n",
       "      <td>3866.85520</td>\n",
       "      <td>Overweight</td>\n",
       "    </tr>\n",
       "  </tbody>\n",
       "</table>\n",
       "</div>"
      ],
      "text/plain": [
       "   age     sex     bmi  children smoker     region      charges weight_class\n",
       "0   19  female  27.900         0    yes  southwest  16884.92400   Overweight\n",
       "1   18    male  33.770         1     no  southeast   1725.55230        Obese\n",
       "2   28    male  33.000         3     no  southeast   4449.46200        Obese\n",
       "3   33    male  22.705         0     no  northwest  21984.47061      Healthy\n",
       "4   32    male  28.880         0     no  northwest   3866.85520   Overweight"
      ]
     },
     "execution_count": 56,
     "metadata": {},
     "output_type": "execute_result"
    }
   ],
   "source": [
    "#Creating a variable that puts people into weight status groups based on their BMI\n",
    "bins = [0, 18.5, 25, 30, 100]\n",
    "labels = ['Underweight', 'Healthy', 'Overweight', 'Obese']\n",
    "medical_data['weight_class'] = pd.cut(medical_data['bmi'], bins = bins, labels = labels)\n",
    "medical_data.head()"
   ]
  },
  {
   "cell_type": "code",
   "execution_count": 65,
   "id": "e8d81182",
   "metadata": {},
   "outputs": [
    {
     "data": {
      "text/plain": [
       "Text(0.5, 1.0, 'Distribution Of Weight Status')"
      ]
     },
     "execution_count": 65,
     "metadata": {},
     "output_type": "execute_result"
    },
    {
     "data": {
      "image/png": "[encoded data removed]",
      "text/plain": [
       "<Figure size 640x480 with 1 Axes>"
      ]
     },
     "metadata": {},
     "output_type": "display_data"
    }
   ],
   "source": [
    "#Creating a visualization to show the groups\n",
    "plt.hist(medical_data['weight_class'])\n",
    "plt.xlabel('Weight Status')\n",
    "plt.ylabel('Number Of People')\n",
    "plt.title('Distribution Of Weight Status')"
   ]
  },
  {
   "cell_type": "code",
   "execution_count": null,
   "id": "d35b7ac5",
   "metadata": {},
   "outputs": [],
   "source": []
  }
 ],
 "metadata": {
  "kernelspec": {
   "display_name": "Python 3 (ipykernel)",
   "language": "python",
   "name": "python3"
  },
  "language_info": {
   "codemirror_mode": {
    "name": "ipython",
    "version": 3
   },
   "file_extension": ".py",
   "mimetype": "text/x-python",
   "name": "python",
   "nbconvert_exporter": "python",
   "pygments_lexer": "ipython3",
   "version": "3.9.13"
  }
 },
 "nbformat": 4,
 "nbformat_minor": 5
}
