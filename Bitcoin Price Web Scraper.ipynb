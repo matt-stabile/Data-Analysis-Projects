{
 "cells": [
  {
   "cell_type": "code",
   "execution_count": 82,
   "id": "0795ebba",
   "metadata": {},
   "outputs": [],
   "source": [
    "#Importing Libraries\n",
    "\n",
    "import pandas as pd\n",
    "from bs4 import BeautifulSoup as bs\n",
    "import requests\n",
    "import time\n",
    "import datetime\n",
    "import smtplib\n",
    "import csv\n",
    "import datetime\n"
   ]
  },
  {
   "cell_type": "code",
   "execution_count": 83,
   "id": "2ae63639",
   "metadata": {},
   "outputs": [
    {
     "name": "stdout",
     "output_type": "stream",
     "text": [
      "2024-10-29\n",
      "72,737\n",
      "4.14%\n"
     ]
    }
   ],
   "source": [
    "#Connecting to website for source data (Binance)\n",
    "\n",
    "URL = 'https://www.binance.com/en/price/bitcoin'\n",
    "\n",
    "r = requests.get(URL)\n",
    "\n",
    "soup = bs(r.content, \"html.parser\")\n",
    "\n",
    "\n",
    "\n",
    "date = soup.find(\"div\",{\"class\":\"css-148n94q\"})\n",
    "price = soup.find(\"div\",{\"class\":\"css-1bwgsh3\"})\n",
    "change = soup.find(\"div\",{\"class\":\"css-12i542z\"})\n",
    "\n",
    "today = datetime.date.today()\n",
    "print(today)\n",
    "price = str(price).strip()[47:]\n",
    "price = str(price).strip()[:6]\n",
    "print(price)\n",
    "change = str(change).strip()[46:]\n",
    "change = str(change).strip()[:5]\n",
    "print(change)\n",
    "\n"
   ]
  },
  {
   "cell_type": "code",
   "execution_count": 84,
   "id": "09a6a0a3",
   "metadata": {},
   "outputs": [],
   "source": [
    "#Creating a CSV with the data I pulled from Binance\n",
    "\n",
    "header = ['Date', 'Price', '24hr Change']\n",
    "data = [today, price, change]\n",
    "\n",
    "with open('BitcoinPriceScraper.csv', 'w', newline='', encoding='UTF8') as f:\n",
    "    writer = csv.writer(f)\n",
    "    writer.writerow(header)\n",
    "    writer.writerow(data)\n",
    "    \n",
    "    "
   ]
  },
  {
   "cell_type": "code",
   "execution_count": 86,
   "id": "933eafb7",
   "metadata": {},
   "outputs": [
    {
     "name": "stdout",
     "output_type": "stream",
     "text": [
      "         Date   Price 24hr Change\n",
      "0  2024-10-29  72,737       4.14%\n"
     ]
    }
   ],
   "source": [
    "df = pd.read_csv('/Users/matthewstabile/BitcoinPriceScraper.csv')\n",
    "print(df)"
   ]
  },
  {
   "cell_type": "code",
   "execution_count": null,
   "id": "2c5d86ec",
   "metadata": {},
   "outputs": [],
   "source": [
    "#Appending the csv\n",
    "\n",
    "with open('BitcoinPriceScraper.csv', 'a+', newline='', encoding='UTF8') as f:\n",
    "    writer = csv.writer(f)\n",
    "    writer.writerow(data)"
   ]
  },
  {
   "cell_type": "code",
   "execution_count": 88,
   "id": "5e5f47dd",
   "metadata": {},
   "outputs": [],
   "source": [
    "#Creating a function that checks the price\n",
    "def check_price():\n",
    "    URL = 'https://www.binance.com/en/price/bitcoin'\n",
    "    r = requests.get(URL)\n",
    "    soup = bs(r.content, \"html.parser\")\n",
    "    date = soup.find(\"div\",{\"class\":\"css-148n94q\"})\n",
    "    price = soup.find(\"div\",{\"class\":\"css-1bwgsh3\"})\n",
    "    change = soup.find(\"div\",{\"class\":\"css-12i542z\"})\n",
    "    \n",
    "    today = datetime.date.today()\n",
    "    price = str(price).strip()[47:]\n",
    "    price = str(price).strip()[:6]\n",
    "    change = str(change).strip()[46:]\n",
    "    change = str(change).strip()[:5]\n",
    "    \n",
    "    header = ['Date', 'Price', '24hr Change']\n",
    "    data = [today, price, change]\n",
    "    \n",
    "    with open('BitcoinPriceScraper.csv', 'a+', newline='', encoding='UTF8') as f:\n",
    "        writer = csv.writer(f)\n",
    "        writer.writerow(data)"
   ]
  },
  {
   "cell_type": "code",
   "execution_count": null,
   "id": "4056a91c",
   "metadata": {},
   "outputs": [],
   "source": [
    "#Calling the function to check the price daily (Every 86,400 seconds)\n",
    "while(True):\n",
    "    check_price()\n",
    "    time.sleep(86400)"
   ]
  },
  {
   "cell_type": "code",
   "execution_count": null,
   "id": "aef0b694",
   "metadata": {},
   "outputs": [],
   "source": [
    "df = pd.read_csv('/Users/matthewstabile/BitcoinPriceScraper.csv')\n",
    "print(df)"
   ]
  },
  {
   "cell_type": "code",
   "execution_count": null,
   "id": "280919fd",
   "metadata": {},
   "outputs": [],
   "source": []
  }
 ],
 "metadata": {
  "kernelspec": {
   "display_name": "Python 3 (ipykernel)",
   "language": "python",
   "name": "python3"
  },
  "language_info": {
   "codemirror_mode": {
    "name": "ipython",
    "version": 3
   },
   "file_extension": ".py",
   "mimetype": "text/x-python",
   "name": "python",
   "nbconvert_exporter": "python",
   "pygments_lexer": "ipython3",
   "version": "3.9.13"
  }
 },
 "nbformat": 4,
 "nbformat_minor": 5
}
